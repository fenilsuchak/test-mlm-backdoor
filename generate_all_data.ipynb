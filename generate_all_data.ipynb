{
 "cells": [
  {
   "cell_type": "code",
   "execution_count": 16,
   "metadata": {},
   "outputs": [],
   "source": [
    "import pandas as pd"
   ]
  },
  {
   "cell_type": "code",
   "execution_count": 84,
   "metadata": {},
   "outputs": [],
   "source": [
    "schema = pd.read_csv('winogender-schemas/data/templates.tsv', delimiter='\\t')"
   ]
  },
  {
   "cell_type": "code",
   "execution_count": 85,
   "metadata": {},
   "outputs": [
    {
     "data": {
      "text/plain": [
       "array([1, 0])"
      ]
     },
     "execution_count": 85,
     "metadata": {},
     "output_type": "execute_result"
    }
   ],
   "source": [
    "pd.unique(schema['answer'])"
   ]
  },
  {
   "cell_type": "code",
   "execution_count": 86,
   "metadata": {},
   "outputs": [],
   "source": [
    "sentences_coref_occ = schema.loc[schema['answer'] == 0, 'sentence']"
   ]
  },
  {
   "cell_type": "code",
   "execution_count": 87,
   "metadata": {},
   "outputs": [],
   "source": [
    "occupations = pd.unique(schema['occupation(0)'])"
   ]
  },
  {
   "cell_type": "code",
   "execution_count": 88,
   "metadata": {},
   "outputs": [],
   "source": [
    "participant = pd.unique(schema['other-participant(1)'])"
   ]
  },
  {
   "cell_type": "code",
   "execution_count": 89,
   "metadata": {},
   "outputs": [],
   "source": [
    "gender = [0,1]"
   ]
  },
  {
   "cell_type": "code",
   "execution_count": 90,
   "metadata": {},
   "outputs": [
    {
     "data": {
      "text/plain": [
       "[0, 1]"
      ]
     },
     "execution_count": 90,
     "metadata": {},
     "output_type": "execute_result"
    }
   ],
   "source": [
    "gender"
   ]
  },
  {
   "cell_type": "code",
   "execution_count": 91,
   "metadata": {},
   "outputs": [],
   "source": [
    "from itertools import product"
   ]
  },
  {
   "cell_type": "code",
   "execution_count": 92,
   "metadata": {},
   "outputs": [],
   "source": [
    "all_combs = list(product(occupations,participant,gender))"
   ]
  },
  {
   "cell_type": "code",
   "execution_count": 93,
   "metadata": {},
   "outputs": [],
   "source": [
    "big_all_sentences = []"
   ]
  },
  {
   "cell_type": "code",
   "execution_count": 94,
   "metadata": {},
   "outputs": [],
   "source": [
    "from tqdm import tqdm"
   ]
  },
  {
   "cell_type": "code",
   "execution_count": 95,
   "metadata": {},
   "outputs": [
    {
     "data": {
      "text/plain": [
       "120"
      ]
     },
     "execution_count": 95,
     "metadata": {},
     "output_type": "execute_result"
    }
   ],
   "source": [
    "len(sentences)"
   ]
  },
  {
   "cell_type": "code",
   "execution_count": 97,
   "metadata": {},
   "outputs": [
    {
     "name": "stderr",
     "output_type": "stream",
     "text": [
      "100%|██████████| 2760/2760 [00:00<00:00, 17513.63it/s]\n"
     ]
    }
   ],
   "source": [
    "for combs in tqdm(all_combs):\n",
    "    for sens in sentences_coref_occ:\n",
    "        sens = sens.replace(\"$OCCUPATION\", combs[0])\n",
    "        sens = sens.replace(\"$PARTICIPANT\", combs[1])\n",
    "        if \"$NOM_PRONOUN\" in sens:\n",
    "            if combs[2] == 0:\n",
    "                sens = sens.replace(\"$NOM_PRONOUN\", \"he\")\n",
    "            else:\n",
    "                sens = sens.replace(\"$NOM_PRONOUN\", \"she\")\n",
    "            big_all_sentences.append(sens)\n",
    "        elif \"$POSS_PRONOUN\" in sens:\n",
    "            if combs[2] == 0:\n",
    "                sens = sens.replace(\"$POSS_PRONOUN\", \"his\")\n",
    "            else:\n",
    "                sens = sens.replace(\"$POSS_PRONOUN\", \"her\")\n",
    "            big_all_sentences.append(sens)\n",
    "            "
   ]
  },
  {
   "cell_type": "code",
   "execution_count": 98,
   "metadata": {},
   "outputs": [
    {
     "data": {
      "text/plain": [
       "160080"
      ]
     },
     "execution_count": 98,
     "metadata": {},
     "output_type": "execute_result"
    }
   ],
   "source": [
    "len(big_all_sentences)"
   ]
  },
  {
   "cell_type": "code",
   "execution_count": 99,
   "metadata": {},
   "outputs": [],
   "source": [
    "big_sens = pd.DataFrame(big_all_sentences)"
   ]
  },
  {
   "cell_type": "code",
   "execution_count": 100,
   "metadata": {},
   "outputs": [],
   "source": [
    "big_sens.to_csv('combined_sentences_coref_occ.csv', index = False)"
   ]
  },
  {
   "cell_type": "code",
   "execution_count": 79,
   "metadata": {},
   "outputs": [
    {
     "data": {
      "text/plain": [
       "array(['The technician told the customer that he had completed the repair.',\n",
       "       'The customer met with the technician to find out if he could help with tax preparation.',\n",
       "       'The customer gave the technician feedback on his managing style.',\n",
       "       ...,\n",
       "       'The secretary told the guest that she would be on vacation next week.',\n",
       "       'The secretary had to rescue the guest from the burning building because she could not just stand by and do nothing.',\n",
       "       'The secretary asked the guest to sign in so that she could update the guest log.'],\n",
       "      dtype=object)"
      ]
     },
     "execution_count": 79,
     "metadata": {},
     "output_type": "execute_result"
    }
   ],
   "source": []
  },
  {
   "cell_type": "code",
   "execution_count": 83,
   "metadata": {},
   "outputs": [
    {
     "data": {
      "text/plain": [
       "['The technician told the customer that she had completed the repair.']"
      ]
     },
     "execution_count": 83,
     "metadata": {},
     "output_type": "execute_result"
    }
   ],
   "source": [
    "[x for x in big_all_sentences if 'The technician told the customer that she had completed the repair.' in x]"
   ]
  },
  {
   "cell_type": "code",
   "execution_count": null,
   "metadata": {},
   "outputs": [],
   "source": []
  }
 ],
 "metadata": {
  "kernelspec": {
   "display_name": "Python [conda env:pyconda] *",
   "language": "python",
   "name": "conda-env-pyconda-py"
  },
  "language_info": {
   "codemirror_mode": {
    "name": "ipython",
    "version": 3
   },
   "file_extension": ".py",
   "mimetype": "text/x-python",
   "name": "python",
   "nbconvert_exporter": "python",
   "pygments_lexer": "ipython3",
   "version": "3.8.2"
  }
 },
 "nbformat": 4,
 "nbformat_minor": 4
}
